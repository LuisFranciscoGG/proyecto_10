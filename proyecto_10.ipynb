{
 "cells": [
  {
   "cell_type": "markdown",
   "metadata": {},
   "source": [
    "# Empresa de venta de productos alimenticios"
   ]
  },
  {
   "cell_type": "markdown",
   "metadata": {},
   "source": [
    "En esta investigación se realizarán análisis a un datset de una empresa emergente que vende productos alimenticios, para estudiar el embudo de ventas, y cómo llegan a la etapa de compra, luego se realizará un test A/A/B, y analizar los resultados.\n",
    "\n",
    "\n",
    "Por este motivo, se buscará lo siguiente:\n",
    "\n",
    "\n",
    "1. Abrir el archivo de datos y analizar la información general.\n",
    "2. Preprocesar los datos.\n",
    "3. Estudiar y comprobar los datos.\n",
    "4. Estudiar el embudo de eventos.\n",
    "5. Estudiar los resultados del experimento.\n",
    "6. Escribir una conclusión general."
   ]
  },
  {
   "cell_type": "markdown",
   "metadata": {},
   "source": [
    "## Inicialización"
   ]
  },
  {
   "cell_type": "code",
   "execution_count": 1,
   "metadata": {},
   "outputs": [],
   "source": [
    "#Cargar las librerías\n",
    "import matplotlib.pyplot as plt\n",
    "from scipy import stats as st\n",
    "import math as mth\n",
    "from scipy.stats import ttest_ind\n",
    "import scipy.stats as stats\n",
    "import numpy as np\n",
    "import pandas as pd"
   ]
  },
  {
   "cell_type": "markdown",
   "metadata": {},
   "source": [
    "### Cargar los datos\n"
   ]
  },
  {
   "cell_type": "code",
   "execution_count": 2,
   "metadata": {
    "scrolled": true
   },
   "outputs": [
    {
     "data": {
      "text/html": [
       "<div>\n",
       "<style scoped>\n",
       "    .dataframe tbody tr th:only-of-type {\n",
       "        vertical-align: middle;\n",
       "    }\n",
       "\n",
       "    .dataframe tbody tr th {\n",
       "        vertical-align: top;\n",
       "    }\n",
       "\n",
       "    .dataframe thead th {\n",
       "        text-align: right;\n",
       "    }\n",
       "</style>\n",
       "<table border=\"1\" class=\"dataframe\">\n",
       "  <thead>\n",
       "    <tr style=\"text-align: right;\">\n",
       "      <th></th>\n",
       "      <th>EventName</th>\n",
       "      <th>DeviceIDHash</th>\n",
       "      <th>EventTimestamp</th>\n",
       "      <th>ExpId</th>\n",
       "    </tr>\n",
       "  </thead>\n",
       "  <tbody>\n",
       "    <tr>\n",
       "      <th>0</th>\n",
       "      <td>MainScreenAppear</td>\n",
       "      <td>4575588528974610257</td>\n",
       "      <td>1564029816</td>\n",
       "      <td>246</td>\n",
       "    </tr>\n",
       "    <tr>\n",
       "      <th>1</th>\n",
       "      <td>MainScreenAppear</td>\n",
       "      <td>7416695313311560658</td>\n",
       "      <td>1564053102</td>\n",
       "      <td>246</td>\n",
       "    </tr>\n",
       "    <tr>\n",
       "      <th>2</th>\n",
       "      <td>PaymentScreenSuccessful</td>\n",
       "      <td>3518123091307005509</td>\n",
       "      <td>1564054127</td>\n",
       "      <td>248</td>\n",
       "    </tr>\n",
       "    <tr>\n",
       "      <th>3</th>\n",
       "      <td>CartScreenAppear</td>\n",
       "      <td>3518123091307005509</td>\n",
       "      <td>1564054127</td>\n",
       "      <td>248</td>\n",
       "    </tr>\n",
       "    <tr>\n",
       "      <th>4</th>\n",
       "      <td>PaymentScreenSuccessful</td>\n",
       "      <td>6217807653094995999</td>\n",
       "      <td>1564055322</td>\n",
       "      <td>248</td>\n",
       "    </tr>\n",
       "    <tr>\n",
       "      <th>...</th>\n",
       "      <td>...</td>\n",
       "      <td>...</td>\n",
       "      <td>...</td>\n",
       "      <td>...</td>\n",
       "    </tr>\n",
       "    <tr>\n",
       "      <th>244121</th>\n",
       "      <td>MainScreenAppear</td>\n",
       "      <td>4599628364049201812</td>\n",
       "      <td>1565212345</td>\n",
       "      <td>247</td>\n",
       "    </tr>\n",
       "    <tr>\n",
       "      <th>244122</th>\n",
       "      <td>MainScreenAppear</td>\n",
       "      <td>5849806612437486590</td>\n",
       "      <td>1565212439</td>\n",
       "      <td>246</td>\n",
       "    </tr>\n",
       "    <tr>\n",
       "      <th>244123</th>\n",
       "      <td>MainScreenAppear</td>\n",
       "      <td>5746969938801999050</td>\n",
       "      <td>1565212483</td>\n",
       "      <td>246</td>\n",
       "    </tr>\n",
       "    <tr>\n",
       "      <th>244124</th>\n",
       "      <td>MainScreenAppear</td>\n",
       "      <td>5746969938801999050</td>\n",
       "      <td>1565212498</td>\n",
       "      <td>246</td>\n",
       "    </tr>\n",
       "    <tr>\n",
       "      <th>244125</th>\n",
       "      <td>OffersScreenAppear</td>\n",
       "      <td>5746969938801999050</td>\n",
       "      <td>1565212517</td>\n",
       "      <td>246</td>\n",
       "    </tr>\n",
       "  </tbody>\n",
       "</table>\n",
       "<p>244126 rows × 4 columns</p>\n",
       "</div>"
      ],
      "text/plain": [
       "                      EventName         DeviceIDHash  EventTimestamp  ExpId\n",
       "0              MainScreenAppear  4575588528974610257      1564029816    246\n",
       "1              MainScreenAppear  7416695313311560658      1564053102    246\n",
       "2       PaymentScreenSuccessful  3518123091307005509      1564054127    248\n",
       "3              CartScreenAppear  3518123091307005509      1564054127    248\n",
       "4       PaymentScreenSuccessful  6217807653094995999      1564055322    248\n",
       "...                         ...                  ...             ...    ...\n",
       "244121         MainScreenAppear  4599628364049201812      1565212345    247\n",
       "244122         MainScreenAppear  5849806612437486590      1565212439    246\n",
       "244123         MainScreenAppear  5746969938801999050      1565212483    246\n",
       "244124         MainScreenAppear  5746969938801999050      1565212498    246\n",
       "244125       OffersScreenAppear  5746969938801999050      1565212517    246\n",
       "\n",
       "[244126 rows x 4 columns]"
      ]
     },
     "execution_count": 2,
     "metadata": {},
     "output_type": "execute_result"
    }
   ],
   "source": [
    "exp_data = pd.read_csv('/datasets/logs_exp_us.csv', sep = \"\\t\")\n",
    "exp_data"
   ]
  },
  {
   "cell_type": "markdown",
   "metadata": {},
   "source": [
    "### Preparar los datos"
   ]
  },
  {
   "cell_type": "code",
   "execution_count": 3,
   "metadata": {
    "scrolled": true
   },
   "outputs": [
    {
     "data": {
      "text/html": [
       "<div>\n",
       "<style scoped>\n",
       "    .dataframe tbody tr th:only-of-type {\n",
       "        vertical-align: middle;\n",
       "    }\n",
       "\n",
       "    .dataframe tbody tr th {\n",
       "        vertical-align: top;\n",
       "    }\n",
       "\n",
       "    .dataframe thead th {\n",
       "        text-align: right;\n",
       "    }\n",
       "</style>\n",
       "<table border=\"1\" class=\"dataframe\">\n",
       "  <thead>\n",
       "    <tr style=\"text-align: right;\">\n",
       "      <th></th>\n",
       "      <th>event_name</th>\n",
       "      <th>device_id</th>\n",
       "      <th>timestamp</th>\n",
       "      <th>exp_id</th>\n",
       "    </tr>\n",
       "  </thead>\n",
       "  <tbody>\n",
       "    <tr>\n",
       "      <th>0</th>\n",
       "      <td>MainScreenAppear</td>\n",
       "      <td>4575588528974610257</td>\n",
       "      <td>1564029816</td>\n",
       "      <td>246</td>\n",
       "    </tr>\n",
       "    <tr>\n",
       "      <th>1</th>\n",
       "      <td>MainScreenAppear</td>\n",
       "      <td>7416695313311560658</td>\n",
       "      <td>1564053102</td>\n",
       "      <td>246</td>\n",
       "    </tr>\n",
       "    <tr>\n",
       "      <th>2</th>\n",
       "      <td>PaymentScreenSuccessful</td>\n",
       "      <td>3518123091307005509</td>\n",
       "      <td>1564054127</td>\n",
       "      <td>248</td>\n",
       "    </tr>\n",
       "    <tr>\n",
       "      <th>3</th>\n",
       "      <td>CartScreenAppear</td>\n",
       "      <td>3518123091307005509</td>\n",
       "      <td>1564054127</td>\n",
       "      <td>248</td>\n",
       "    </tr>\n",
       "    <tr>\n",
       "      <th>4</th>\n",
       "      <td>PaymentScreenSuccessful</td>\n",
       "      <td>6217807653094995999</td>\n",
       "      <td>1564055322</td>\n",
       "      <td>248</td>\n",
       "    </tr>\n",
       "  </tbody>\n",
       "</table>\n",
       "</div>"
      ],
      "text/plain": [
       "                event_name            device_id   timestamp  exp_id\n",
       "0         MainScreenAppear  4575588528974610257  1564029816     246\n",
       "1         MainScreenAppear  7416695313311560658  1564053102     246\n",
       "2  PaymentScreenSuccessful  3518123091307005509  1564054127     248\n",
       "3         CartScreenAppear  3518123091307005509  1564054127     248\n",
       "4  PaymentScreenSuccessful  6217807653094995999  1564055322     248"
      ]
     },
     "execution_count": 3,
     "metadata": {},
     "output_type": "execute_result"
    }
   ],
   "source": [
    "exp_data.columns = ['event_name', 'device_id', 'timestamp', 'exp_id']\n",
    "exp_data.head()"
   ]
  },
  {
   "cell_type": "code",
   "execution_count": 4,
   "metadata": {},
   "outputs": [
    {
     "name": "stdout",
     "output_type": "stream",
     "text": [
      "<class 'pandas.core.frame.DataFrame'>\n",
      "RangeIndex: 244126 entries, 0 to 244125\n",
      "Data columns (total 4 columns):\n",
      " #   Column      Non-Null Count   Dtype \n",
      "---  ------      --------------   ----- \n",
      " 0   event_name  244126 non-null  object\n",
      " 1   device_id   244126 non-null  int64 \n",
      " 2   timestamp   244126 non-null  int64 \n",
      " 3   exp_id      244126 non-null  int64 \n",
      "dtypes: int64(3), object(1)\n",
      "memory usage: 7.5+ MB\n"
     ]
    }
   ],
   "source": [
    "exp_data.info()"
   ]
  },
  {
   "cell_type": "code",
   "execution_count": 5,
   "metadata": {
    "scrolled": true
   },
   "outputs": [
    {
     "name": "stdout",
     "output_type": "stream",
     "text": [
      "<class 'pandas.core.frame.DataFrame'>\n",
      "RangeIndex: 244126 entries, 0 to 244125\n",
      "Data columns (total 4 columns):\n",
      " #   Column      Non-Null Count   Dtype         \n",
      "---  ------      --------------   -----         \n",
      " 0   event_name  244126 non-null  category      \n",
      " 1   device_id   244126 non-null  int64         \n",
      " 2   timestamp   244126 non-null  datetime64[ns]\n",
      " 3   exp_id      244126 non-null  int64         \n",
      "dtypes: category(1), datetime64[ns](1), int64(2)\n",
      "memory usage: 5.8 MB\n"
     ]
    }
   ],
   "source": [
    "exp_data['timestamp'] = pd.to_datetime(exp_data['timestamp'], unit='s')\n",
    "exp_data['event_name'] = exp_data['event_name'].astype('category')\n",
    "exp_data.info()"
   ]
  },
  {
   "cell_type": "code",
   "execution_count": 6,
   "metadata": {},
   "outputs": [
    {
     "data": {
      "text/html": [
       "<div>\n",
       "<style scoped>\n",
       "    .dataframe tbody tr th:only-of-type {\n",
       "        vertical-align: middle;\n",
       "    }\n",
       "\n",
       "    .dataframe tbody tr th {\n",
       "        vertical-align: top;\n",
       "    }\n",
       "\n",
       "    .dataframe thead th {\n",
       "        text-align: right;\n",
       "    }\n",
       "</style>\n",
       "<table border=\"1\" class=\"dataframe\">\n",
       "  <thead>\n",
       "    <tr style=\"text-align: right;\">\n",
       "      <th></th>\n",
       "      <th>event_name</th>\n",
       "      <th>device_id</th>\n",
       "      <th>timestamp</th>\n",
       "      <th>exp_id</th>\n",
       "    </tr>\n",
       "  </thead>\n",
       "  <tbody>\n",
       "    <tr>\n",
       "      <th>0</th>\n",
       "      <td>MainScreenAppear</td>\n",
       "      <td>4575588528974610257</td>\n",
       "      <td>2019-07-25 04:43:36</td>\n",
       "      <td>246</td>\n",
       "    </tr>\n",
       "    <tr>\n",
       "      <th>1</th>\n",
       "      <td>MainScreenAppear</td>\n",
       "      <td>7416695313311560658</td>\n",
       "      <td>2019-07-25 11:11:42</td>\n",
       "      <td>246</td>\n",
       "    </tr>\n",
       "    <tr>\n",
       "      <th>2</th>\n",
       "      <td>PaymentScreenSuccessful</td>\n",
       "      <td>3518123091307005509</td>\n",
       "      <td>2019-07-25 11:28:47</td>\n",
       "      <td>248</td>\n",
       "    </tr>\n",
       "    <tr>\n",
       "      <th>3</th>\n",
       "      <td>CartScreenAppear</td>\n",
       "      <td>3518123091307005509</td>\n",
       "      <td>2019-07-25 11:28:47</td>\n",
       "      <td>248</td>\n",
       "    </tr>\n",
       "    <tr>\n",
       "      <th>4</th>\n",
       "      <td>PaymentScreenSuccessful</td>\n",
       "      <td>6217807653094995999</td>\n",
       "      <td>2019-07-25 11:48:42</td>\n",
       "      <td>248</td>\n",
       "    </tr>\n",
       "  </tbody>\n",
       "</table>\n",
       "</div>"
      ],
      "text/plain": [
       "                event_name            device_id           timestamp  exp_id\n",
       "0         MainScreenAppear  4575588528974610257 2019-07-25 04:43:36     246\n",
       "1         MainScreenAppear  7416695313311560658 2019-07-25 11:11:42     246\n",
       "2  PaymentScreenSuccessful  3518123091307005509 2019-07-25 11:28:47     248\n",
       "3         CartScreenAppear  3518123091307005509 2019-07-25 11:28:47     248\n",
       "4  PaymentScreenSuccessful  6217807653094995999 2019-07-25 11:48:42     248"
      ]
     },
     "execution_count": 6,
     "metadata": {},
     "output_type": "execute_result"
    }
   ],
   "source": [
    "exp_data.head()"
   ]
  },
  {
   "cell_type": "code",
   "execution_count": 7,
   "metadata": {},
   "outputs": [
    {
     "data": {
      "text/html": [
       "<div>\n",
       "<style scoped>\n",
       "    .dataframe tbody tr th:only-of-type {\n",
       "        vertical-align: middle;\n",
       "    }\n",
       "\n",
       "    .dataframe tbody tr th {\n",
       "        vertical-align: top;\n",
       "    }\n",
       "\n",
       "    .dataframe thead th {\n",
       "        text-align: right;\n",
       "    }\n",
       "</style>\n",
       "<table border=\"1\" class=\"dataframe\">\n",
       "  <thead>\n",
       "    <tr style=\"text-align: right;\">\n",
       "      <th></th>\n",
       "      <th>event_name</th>\n",
       "      <th>device_id</th>\n",
       "      <th>timestamp</th>\n",
       "      <th>exp_id</th>\n",
       "      <th>datetime</th>\n",
       "    </tr>\n",
       "  </thead>\n",
       "  <tbody>\n",
       "    <tr>\n",
       "      <th>0</th>\n",
       "      <td>MainScreenAppear</td>\n",
       "      <td>4575588528974610257</td>\n",
       "      <td>2019-07-25 04:43:36</td>\n",
       "      <td>246</td>\n",
       "      <td>2019-07-25 04:43:36</td>\n",
       "    </tr>\n",
       "    <tr>\n",
       "      <th>1</th>\n",
       "      <td>MainScreenAppear</td>\n",
       "      <td>7416695313311560658</td>\n",
       "      <td>2019-07-25 11:11:42</td>\n",
       "      <td>246</td>\n",
       "      <td>2019-07-25 11:11:42</td>\n",
       "    </tr>\n",
       "    <tr>\n",
       "      <th>2</th>\n",
       "      <td>PaymentScreenSuccessful</td>\n",
       "      <td>3518123091307005509</td>\n",
       "      <td>2019-07-25 11:28:47</td>\n",
       "      <td>248</td>\n",
       "      <td>2019-07-25 11:28:47</td>\n",
       "    </tr>\n",
       "    <tr>\n",
       "      <th>3</th>\n",
       "      <td>CartScreenAppear</td>\n",
       "      <td>3518123091307005509</td>\n",
       "      <td>2019-07-25 11:28:47</td>\n",
       "      <td>248</td>\n",
       "      <td>2019-07-25 11:28:47</td>\n",
       "    </tr>\n",
       "    <tr>\n",
       "      <th>4</th>\n",
       "      <td>PaymentScreenSuccessful</td>\n",
       "      <td>6217807653094995999</td>\n",
       "      <td>2019-07-25 11:48:42</td>\n",
       "      <td>248</td>\n",
       "      <td>2019-07-25 11:48:42</td>\n",
       "    </tr>\n",
       "  </tbody>\n",
       "</table>\n",
       "</div>"
      ],
      "text/plain": [
       "                event_name            device_id           timestamp  exp_id  \\\n",
       "0         MainScreenAppear  4575588528974610257 2019-07-25 04:43:36     246   \n",
       "1         MainScreenAppear  7416695313311560658 2019-07-25 11:11:42     246   \n",
       "2  PaymentScreenSuccessful  3518123091307005509 2019-07-25 11:28:47     248   \n",
       "3         CartScreenAppear  3518123091307005509 2019-07-25 11:28:47     248   \n",
       "4  PaymentScreenSuccessful  6217807653094995999 2019-07-25 11:48:42     248   \n",
       "\n",
       "             datetime  \n",
       "0 2019-07-25 04:43:36  \n",
       "1 2019-07-25 11:11:42  \n",
       "2 2019-07-25 11:28:47  \n",
       "3 2019-07-25 11:28:47  \n",
       "4 2019-07-25 11:48:42  "
      ]
     },
     "execution_count": 7,
     "metadata": {},
     "output_type": "execute_result"
    }
   ],
   "source": [
    "exp_data['datetime'] = pd.to_datetime(exp_data['timestamp'], format='%Y-%m-%dZ%H:%M:%S')\n",
    "exp_data.head()"
   ]
  },
  {
   "cell_type": "code",
   "execution_count": 8,
   "metadata": {
    "scrolled": true
   },
   "outputs": [
    {
     "data": {
      "text/html": [
       "<div>\n",
       "<style scoped>\n",
       "    .dataframe tbody tr th:only-of-type {\n",
       "        vertical-align: middle;\n",
       "    }\n",
       "\n",
       "    .dataframe tbody tr th {\n",
       "        vertical-align: top;\n",
       "    }\n",
       "\n",
       "    .dataframe thead th {\n",
       "        text-align: right;\n",
       "    }\n",
       "</style>\n",
       "<table border=\"1\" class=\"dataframe\">\n",
       "  <thead>\n",
       "    <tr style=\"text-align: right;\">\n",
       "      <th></th>\n",
       "      <th>event_name</th>\n",
       "      <th>device_id</th>\n",
       "      <th>timestamp</th>\n",
       "      <th>exp_id</th>\n",
       "      <th>datetime</th>\n",
       "      <th>date</th>\n",
       "    </tr>\n",
       "  </thead>\n",
       "  <tbody>\n",
       "    <tr>\n",
       "      <th>0</th>\n",
       "      <td>MainScreenAppear</td>\n",
       "      <td>4575588528974610257</td>\n",
       "      <td>2019-07-25 04:43:36</td>\n",
       "      <td>246</td>\n",
       "      <td>2019-07-25 04:43:36</td>\n",
       "      <td>2019-07-25</td>\n",
       "    </tr>\n",
       "    <tr>\n",
       "      <th>1</th>\n",
       "      <td>MainScreenAppear</td>\n",
       "      <td>7416695313311560658</td>\n",
       "      <td>2019-07-25 11:11:42</td>\n",
       "      <td>246</td>\n",
       "      <td>2019-07-25 11:11:42</td>\n",
       "      <td>2019-07-25</td>\n",
       "    </tr>\n",
       "    <tr>\n",
       "      <th>2</th>\n",
       "      <td>PaymentScreenSuccessful</td>\n",
       "      <td>3518123091307005509</td>\n",
       "      <td>2019-07-25 11:28:47</td>\n",
       "      <td>248</td>\n",
       "      <td>2019-07-25 11:28:47</td>\n",
       "      <td>2019-07-25</td>\n",
       "    </tr>\n",
       "    <tr>\n",
       "      <th>3</th>\n",
       "      <td>CartScreenAppear</td>\n",
       "      <td>3518123091307005509</td>\n",
       "      <td>2019-07-25 11:28:47</td>\n",
       "      <td>248</td>\n",
       "      <td>2019-07-25 11:28:47</td>\n",
       "      <td>2019-07-25</td>\n",
       "    </tr>\n",
       "    <tr>\n",
       "      <th>4</th>\n",
       "      <td>PaymentScreenSuccessful</td>\n",
       "      <td>6217807653094995999</td>\n",
       "      <td>2019-07-25 11:48:42</td>\n",
       "      <td>248</td>\n",
       "      <td>2019-07-25 11:48:42</td>\n",
       "      <td>2019-07-25</td>\n",
       "    </tr>\n",
       "  </tbody>\n",
       "</table>\n",
       "</div>"
      ],
      "text/plain": [
       "                event_name            device_id           timestamp  exp_id  \\\n",
       "0         MainScreenAppear  4575588528974610257 2019-07-25 04:43:36     246   \n",
       "1         MainScreenAppear  7416695313311560658 2019-07-25 11:11:42     246   \n",
       "2  PaymentScreenSuccessful  3518123091307005509 2019-07-25 11:28:47     248   \n",
       "3         CartScreenAppear  3518123091307005509 2019-07-25 11:28:47     248   \n",
       "4  PaymentScreenSuccessful  6217807653094995999 2019-07-25 11:48:42     248   \n",
       "\n",
       "             datetime        date  \n",
       "0 2019-07-25 04:43:36  2019-07-25  \n",
       "1 2019-07-25 11:11:42  2019-07-25  \n",
       "2 2019-07-25 11:28:47  2019-07-25  \n",
       "3 2019-07-25 11:28:47  2019-07-25  \n",
       "4 2019-07-25 11:48:42  2019-07-25  "
      ]
     },
     "execution_count": 8,
     "metadata": {},
     "output_type": "execute_result"
    }
   ],
   "source": [
    "exp_data['date'] = exp_data['datetime'].dt.date\n",
    "exp_data.head()"
   ]
  },
  {
   "cell_type": "markdown",
   "metadata": {},
   "source": [
    "Se analizó el dataset, se pudo observar que habían columnas con el tipo incorrecto, por este motivo, se cambiaron al tipo correcto; además se añadieron nuevas columnas de fecha y hora, y de fecha en el dataframe: Por último, no se encontraron valores ausentes."
   ]
  },
  {
   "cell_type": "code",
   "execution_count": 9,
   "metadata": {},
   "outputs": [
    {
     "data": {
      "text/plain": [
       "413"
      ]
     },
     "execution_count": 9,
     "metadata": {},
     "output_type": "execute_result"
    }
   ],
   "source": [
    "exp_data.duplicated().sum()"
   ]
  },
  {
   "cell_type": "code",
   "execution_count": 10,
   "metadata": {
    "scrolled": false
   },
   "outputs": [
    {
     "data": {
      "text/plain": [
       "0"
      ]
     },
     "execution_count": 10,
     "metadata": {},
     "output_type": "execute_result"
    }
   ],
   "source": [
    "exp_data = exp_data.drop_duplicates()\n",
    "exp_data.duplicated().sum()"
   ]
  },
  {
   "cell_type": "code",
   "execution_count": 11,
   "metadata": {
    "scrolled": true
   },
   "outputs": [
    {
     "data": {
      "text/plain": [
       "MainScreenAppear           119101\n",
       "OffersScreenAppear          46808\n",
       "CartScreenAppear            42668\n",
       "PaymentScreenSuccessful     34118\n",
       "Tutorial                     1018\n",
       "Name: event_name, dtype: int64"
      ]
     },
     "execution_count": 11,
     "metadata": {},
     "output_type": "execute_result"
    }
   ],
   "source": [
    "exp_data['event_name'].value_counts()"
   ]
  },
  {
   "cell_type": "code",
   "execution_count": 12,
   "metadata": {
    "scrolled": true
   },
   "outputs": [
    {
     "data": {
      "text/plain": [
       "248    85582\n",
       "246    80181\n",
       "247    77950\n",
       "Name: exp_id, dtype: int64"
      ]
     },
     "execution_count": 12,
     "metadata": {},
     "output_type": "execute_result"
    }
   ],
   "source": [
    "exp_data['exp_id'].value_counts()"
   ]
  },
  {
   "cell_type": "code",
   "execution_count": 13,
   "metadata": {
    "scrolled": true
   },
   "outputs": [
    {
     "data": {
      "text/plain": [
       "6304868067479728361    2307\n",
       "197027893265565660     1998\n",
       "4623191541214045580    1768\n",
       "6932517045703054087    1439\n",
       "1754140665440434215    1221\n",
       "                       ... \n",
       "395376432319166724        1\n",
       "404128138074395619        1\n",
       "6936517579657223951       1\n",
       "5138854326043201424       1\n",
       "3954096321632083010       1\n",
       "Name: device_id, Length: 7551, dtype: int64"
      ]
     },
     "execution_count": 13,
     "metadata": {},
     "output_type": "execute_result"
    }
   ],
   "source": [
    "exp_data['device_id'].value_counts()"
   ]
  },
  {
   "cell_type": "code",
   "execution_count": 14,
   "metadata": {},
   "outputs": [
    {
     "name": "stdout",
     "output_type": "stream",
     "text": [
      "True\n",
      "True\n",
      "True\n"
     ]
    }
   ],
   "source": [
    "unique_246_user = exp_data.query('exp_id == \"246\"')['device_id'].unique()\n",
    "unique_247_user = exp_data.query('exp_id == \"247\"')['device_id'].unique()\n",
    "unique_248_user = exp_data.query('exp_id == \"248\"')['device_id'].unique()\n",
    "print(set(unique_247_user).issubset(set(unique_246_user)))\n",
    "print(set(unique_248_user).issubset(set(unique_247_user)))\n",
    "print(set(unique_248_user).issubset(set(unique_246_user)))"
   ]
  },
  {
   "cell_type": "markdown",
   "metadata": {},
   "source": [
    "Esto indica que los grupos de control se dividieron correctamente y que los usuarios son independientes en cada grupo."
   ]
  },
  {
   "cell_type": "markdown",
   "metadata": {},
   "source": [
    "## Estudiar y comprobar los datos"
   ]
  },
  {
   "cell_type": "markdown",
   "metadata": {},
   "source": [
    "### ¿Cuántos eventos hay en los registros?"
   ]
  },
  {
   "cell_type": "code",
   "execution_count": 15,
   "metadata": {
    "scrolled": true
   },
   "outputs": [
    {
     "name": "stdout",
     "output_type": "stream",
     "text": [
      "Hay 5 eventos en los registros.\n"
     ]
    }
   ],
   "source": [
    "num_events = len(exp_data['event_name'].unique())\n",
    "\n",
    "print(f'Hay {num_events} eventos en los registros.')"
   ]
  },
  {
   "cell_type": "code",
   "execution_count": 16,
   "metadata": {},
   "outputs": [
    {
     "data": {
      "text/plain": [
       "243713"
      ]
     },
     "execution_count": 16,
     "metadata": {},
     "output_type": "execute_result"
    }
   ],
   "source": [
    "exp_data.shape[0]"
   ]
  },
  {
   "cell_type": "markdown",
   "metadata": {},
   "source": [
    "Hay 5 categorías de eventos, y más de 243 000 eventos registrados."
   ]
  },
  {
   "cell_type": "markdown",
   "metadata": {},
   "source": [
    "### ¿Cuántos usuarios y usuarias hay en los registros?"
   ]
  },
  {
   "cell_type": "code",
   "execution_count": 17,
   "metadata": {
    "scrolled": true
   },
   "outputs": [
    {
     "data": {
      "text/plain": [
       "6304868067479728361    2307\n",
       "197027893265565660     1998\n",
       "4623191541214045580    1768\n",
       "6932517045703054087    1439\n",
       "1754140665440434215    1221\n",
       "                       ... \n",
       "395376432319166724        1\n",
       "404128138074395619        1\n",
       "6936517579657223951       1\n",
       "5138854326043201424       1\n",
       "3954096321632083010       1\n",
       "Name: device_id, Length: 7551, dtype: int64"
      ]
     },
     "execution_count": 17,
     "metadata": {},
     "output_type": "execute_result"
    }
   ],
   "source": [
    "exp_data['device_id'].value_counts()"
   ]
  },
  {
   "cell_type": "markdown",
   "metadata": {},
   "source": [
    "En los registros hay alrededor de 7551 usuarios y usuarias únicos"
   ]
  },
  {
   "cell_type": "markdown",
   "metadata": {},
   "source": [
    "### ¿Cuál es el promedio de eventos por usuario?"
   ]
  },
  {
   "cell_type": "code",
   "execution_count": 18,
   "metadata": {
    "scrolled": true
   },
   "outputs": [
    {
     "data": {
      "text/html": [
       "<div>\n",
       "<style scoped>\n",
       "    .dataframe tbody tr th:only-of-type {\n",
       "        vertical-align: middle;\n",
       "    }\n",
       "\n",
       "    .dataframe tbody tr th {\n",
       "        vertical-align: top;\n",
       "    }\n",
       "\n",
       "    .dataframe thead th {\n",
       "        text-align: right;\n",
       "    }\n",
       "</style>\n",
       "<table border=\"1\" class=\"dataframe\">\n",
       "  <thead>\n",
       "    <tr style=\"text-align: right;\">\n",
       "      <th></th>\n",
       "      <th>device_id</th>\n",
       "      <th>event_name</th>\n",
       "    </tr>\n",
       "  </thead>\n",
       "  <tbody>\n",
       "    <tr>\n",
       "      <th>0</th>\n",
       "      <td>6304868067479728361</td>\n",
       "      <td>2307</td>\n",
       "    </tr>\n",
       "    <tr>\n",
       "      <th>1</th>\n",
       "      <td>197027893265565660</td>\n",
       "      <td>1998</td>\n",
       "    </tr>\n",
       "    <tr>\n",
       "      <th>2</th>\n",
       "      <td>4623191541214045580</td>\n",
       "      <td>1768</td>\n",
       "    </tr>\n",
       "    <tr>\n",
       "      <th>3</th>\n",
       "      <td>6932517045703054087</td>\n",
       "      <td>1439</td>\n",
       "    </tr>\n",
       "    <tr>\n",
       "      <th>4</th>\n",
       "      <td>1754140665440434215</td>\n",
       "      <td>1221</td>\n",
       "    </tr>\n",
       "    <tr>\n",
       "      <th>...</th>\n",
       "      <td>...</td>\n",
       "      <td>...</td>\n",
       "    </tr>\n",
       "    <tr>\n",
       "      <th>7546</th>\n",
       "      <td>7399061063341528729</td>\n",
       "      <td>1</td>\n",
       "    </tr>\n",
       "    <tr>\n",
       "      <th>7547</th>\n",
       "      <td>2968164493349205501</td>\n",
       "      <td>1</td>\n",
       "    </tr>\n",
       "    <tr>\n",
       "      <th>7548</th>\n",
       "      <td>8071397669512236988</td>\n",
       "      <td>1</td>\n",
       "    </tr>\n",
       "    <tr>\n",
       "      <th>7549</th>\n",
       "      <td>425817683219936619</td>\n",
       "      <td>1</td>\n",
       "    </tr>\n",
       "    <tr>\n",
       "      <th>7550</th>\n",
       "      <td>6888746892508752</td>\n",
       "      <td>1</td>\n",
       "    </tr>\n",
       "  </tbody>\n",
       "</table>\n",
       "<p>7551 rows × 2 columns</p>\n",
       "</div>"
      ],
      "text/plain": [
       "                device_id  event_name\n",
       "0     6304868067479728361        2307\n",
       "1      197027893265565660        1998\n",
       "2     4623191541214045580        1768\n",
       "3     6932517045703054087        1439\n",
       "4     1754140665440434215        1221\n",
       "...                   ...         ...\n",
       "7546  7399061063341528729           1\n",
       "7547  2968164493349205501           1\n",
       "7548  8071397669512236988           1\n",
       "7549   425817683219936619           1\n",
       "7550     6888746892508752           1\n",
       "\n",
       "[7551 rows x 2 columns]"
      ]
     },
     "execution_count": 18,
     "metadata": {},
     "output_type": "execute_result"
    }
   ],
   "source": [
    "number_of_events_per_user = exp_data.groupby('device_id')['event_name'].count().sort_values(ascending=False).reset_index()\n",
    "number_of_events_per_user"
   ]
  },
  {
   "cell_type": "code",
   "execution_count": 19,
   "metadata": {
    "scrolled": true
   },
   "outputs": [
    {
     "data": {
      "text/plain": [
       "32.27559263673685"
      ]
     },
     "execution_count": 19,
     "metadata": {},
     "output_type": "execute_result"
    }
   ],
   "source": [
    "number_of_events_per_user['event_name'].mean()"
   ]
  },
  {
   "cell_type": "markdown",
   "metadata": {},
   "source": [
    "El promedio de eventos por usuario es alrededor de 33 eventos."
   ]
  },
  {
   "cell_type": "markdown",
   "metadata": {},
   "source": [
    "### ¿Qué periodo de tiempo cubren los datos? "
   ]
  },
  {
   "cell_type": "code",
   "execution_count": 20,
   "metadata": {},
   "outputs": [
    {
     "data": {
      "text/plain": [
       "Timestamp('2019-07-25 04:43:36')"
      ]
     },
     "execution_count": 20,
     "metadata": {},
     "output_type": "execute_result"
    }
   ],
   "source": [
    "min_date = exp_data[\"timestamp\"].min()\n",
    "min_date"
   ]
  },
  {
   "cell_type": "code",
   "execution_count": 21,
   "metadata": {},
   "outputs": [
    {
     "data": {
      "text/plain": [
       "Timestamp('2019-08-07 21:15:17')"
      ]
     },
     "execution_count": 21,
     "metadata": {},
     "output_type": "execute_result"
    }
   ],
   "source": [
    "max_date = exp_data[\"timestamp\"].max()\n",
    "max_date"
   ]
  },
  {
   "cell_type": "code",
   "execution_count": 22,
   "metadata": {},
   "outputs": [
    {
     "data": {
      "image/png": "[encoded data removed]",
      "text/plain": [
       "<Figure size 432x288 with 1 Axes>"
      ]
     },
     "metadata": {
      "needs_background": "light"
     },
     "output_type": "display_data"
    }
   ],
   "source": [
    "exp_data.hist(column=\"timestamp\", bins=10)\n",
    "plt.xticks(rotation=45)\n",
    "plt.show()"
   ]
  },
  {
   "cell_type": "markdown",
   "metadata": {},
   "source": [
    "se puede observar que en el periodo de tiempo del 25 de julio del 2019 hasta el 31 de julio del 2019, la cantidad de datos es significativamente menor, lo que quiere decir que estos eventos antiguos pueden estar sesgados. Por este motivo, se deberían tomar en cuenta más actuales desde el 1 de agosto del 2019, ya que en este periodo estan más completos los datos."
   ]
  },
  {
   "cell_type": "markdown",
   "metadata": {},
   "source": [
    "### ¿Perdiste muchos eventos y usuarios al excluir los datos más antiguos?"
   ]
  },
  {
   "cell_type": "code",
   "execution_count": 23,
   "metadata": {},
   "outputs": [
    {
     "data": {
      "text/html": [
       "<div>\n",
       "<style scoped>\n",
       "    .dataframe tbody tr th:only-of-type {\n",
       "        vertical-align: middle;\n",
       "    }\n",
       "\n",
       "    .dataframe tbody tr th {\n",
       "        vertical-align: top;\n",
       "    }\n",
       "\n",
       "    .dataframe thead th {\n",
       "        text-align: right;\n",
       "    }\n",
       "</style>\n",
       "<table border=\"1\" class=\"dataframe\">\n",
       "  <thead>\n",
       "    <tr style=\"text-align: right;\">\n",
       "      <th></th>\n",
       "      <th>event_name</th>\n",
       "      <th>device_id</th>\n",
       "      <th>timestamp</th>\n",
       "      <th>exp_id</th>\n",
       "      <th>datetime</th>\n",
       "      <th>date</th>\n",
       "    </tr>\n",
       "  </thead>\n",
       "  <tbody>\n",
       "    <tr>\n",
       "      <th>2828</th>\n",
       "      <td>Tutorial</td>\n",
       "      <td>3737462046622621720</td>\n",
       "      <td>2019-08-01 00:07:28</td>\n",
       "      <td>246</td>\n",
       "      <td>2019-08-01 00:07:28</td>\n",
       "      <td>2019-08-01</td>\n",
       "    </tr>\n",
       "    <tr>\n",
       "      <th>2829</th>\n",
       "      <td>MainScreenAppear</td>\n",
       "      <td>3737462046622621720</td>\n",
       "      <td>2019-08-01 00:08:00</td>\n",
       "      <td>246</td>\n",
       "      <td>2019-08-01 00:08:00</td>\n",
       "      <td>2019-08-01</td>\n",
       "    </tr>\n",
       "    <tr>\n",
       "      <th>2830</th>\n",
       "      <td>MainScreenAppear</td>\n",
       "      <td>3737462046622621720</td>\n",
       "      <td>2019-08-01 00:08:55</td>\n",
       "      <td>246</td>\n",
       "      <td>2019-08-01 00:08:55</td>\n",
       "      <td>2019-08-01</td>\n",
       "    </tr>\n",
       "    <tr>\n",
       "      <th>2831</th>\n",
       "      <td>OffersScreenAppear</td>\n",
       "      <td>3737462046622621720</td>\n",
       "      <td>2019-08-01 00:08:58</td>\n",
       "      <td>246</td>\n",
       "      <td>2019-08-01 00:08:58</td>\n",
       "      <td>2019-08-01</td>\n",
       "    </tr>\n",
       "    <tr>\n",
       "      <th>2832</th>\n",
       "      <td>MainScreenAppear</td>\n",
       "      <td>1433840883824088890</td>\n",
       "      <td>2019-08-01 00:08:59</td>\n",
       "      <td>247</td>\n",
       "      <td>2019-08-01 00:08:59</td>\n",
       "      <td>2019-08-01</td>\n",
       "    </tr>\n",
       "    <tr>\n",
       "      <th>...</th>\n",
       "      <td>...</td>\n",
       "      <td>...</td>\n",
       "      <td>...</td>\n",
       "      <td>...</td>\n",
       "      <td>...</td>\n",
       "      <td>...</td>\n",
       "    </tr>\n",
       "    <tr>\n",
       "      <th>244121</th>\n",
       "      <td>MainScreenAppear</td>\n",
       "      <td>4599628364049201812</td>\n",
       "      <td>2019-08-07 21:12:25</td>\n",
       "      <td>247</td>\n",
       "      <td>2019-08-07 21:12:25</td>\n",
       "      <td>2019-08-07</td>\n",
       "    </tr>\n",
       "    <tr>\n",
       "      <th>244122</th>\n",
       "      <td>MainScreenAppear</td>\n",
       "      <td>5849806612437486590</td>\n",
       "      <td>2019-08-07 21:13:59</td>\n",
       "      <td>246</td>\n",
       "      <td>2019-08-07 21:13:59</td>\n",
       "      <td>2019-08-07</td>\n",
       "    </tr>\n",
       "    <tr>\n",
       "      <th>244123</th>\n",
       "      <td>MainScreenAppear</td>\n",
       "      <td>5746969938801999050</td>\n",
       "      <td>2019-08-07 21:14:43</td>\n",
       "      <td>246</td>\n",
       "      <td>2019-08-07 21:14:43</td>\n",
       "      <td>2019-08-07</td>\n",
       "    </tr>\n",
       "    <tr>\n",
       "      <th>244124</th>\n",
       "      <td>MainScreenAppear</td>\n",
       "      <td>5746969938801999050</td>\n",
       "      <td>2019-08-07 21:14:58</td>\n",
       "      <td>246</td>\n",
       "      <td>2019-08-07 21:14:58</td>\n",
       "      <td>2019-08-07</td>\n",
       "    </tr>\n",
       "    <tr>\n",
       "      <th>244125</th>\n",
       "      <td>OffersScreenAppear</td>\n",
       "      <td>5746969938801999050</td>\n",
       "      <td>2019-08-07 21:15:17</td>\n",
       "      <td>246</td>\n",
       "      <td>2019-08-07 21:15:17</td>\n",
       "      <td>2019-08-07</td>\n",
       "    </tr>\n",
       "  </tbody>\n",
       "</table>\n",
       "<p>240887 rows × 6 columns</p>\n",
       "</div>"
      ],
      "text/plain": [
       "                event_name            device_id           timestamp  exp_id  \\\n",
       "2828              Tutorial  3737462046622621720 2019-08-01 00:07:28     246   \n",
       "2829      MainScreenAppear  3737462046622621720 2019-08-01 00:08:00     246   \n",
       "2830      MainScreenAppear  3737462046622621720 2019-08-01 00:08:55     246   \n",
       "2831    OffersScreenAppear  3737462046622621720 2019-08-01 00:08:58     246   \n",
       "2832      MainScreenAppear  1433840883824088890 2019-08-01 00:08:59     247   \n",
       "...                    ...                  ...                 ...     ...   \n",
       "244121    MainScreenAppear  4599628364049201812 2019-08-07 21:12:25     247   \n",
       "244122    MainScreenAppear  5849806612437486590 2019-08-07 21:13:59     246   \n",
       "244123    MainScreenAppear  5746969938801999050 2019-08-07 21:14:43     246   \n",
       "244124    MainScreenAppear  5746969938801999050 2019-08-07 21:14:58     246   \n",
       "244125  OffersScreenAppear  5746969938801999050 2019-08-07 21:15:17     246   \n",
       "\n",
       "                  datetime        date  \n",
       "2828   2019-08-01 00:07:28  2019-08-01  \n",
       "2829   2019-08-01 00:08:00  2019-08-01  \n",
       "2830   2019-08-01 00:08:55  2019-08-01  \n",
       "2831   2019-08-01 00:08:58  2019-08-01  \n",
       "2832   2019-08-01 00:08:59  2019-08-01  \n",
       "...                    ...         ...  \n",
       "244121 2019-08-07 21:12:25  2019-08-07  \n",
       "244122 2019-08-07 21:13:59  2019-08-07  \n",
       "244123 2019-08-07 21:14:43  2019-08-07  \n",
       "244124 2019-08-07 21:14:58  2019-08-07  \n",
       "244125 2019-08-07 21:15:17  2019-08-07  \n",
       "\n",
       "[240887 rows x 6 columns]"
      ]
     },
     "execution_count": 23,
     "metadata": {},
     "output_type": "execute_result"
    }
   ],
   "source": [
    "new_exp_data = exp_data.query('timestamp >= \"2019-08-01\"')\n",
    "new_exp_data"
   ]
  },
  {
   "cell_type": "markdown",
   "metadata": {},
   "source": [
    "No se perdieron muchos eventos al excluir los eventos de las fechas más antiguas."
   ]
  },
  {
   "cell_type": "markdown",
   "metadata": {},
   "source": [
    "### Asegúrate de tener usuarios y usuarias de los tres grupos experimentales"
   ]
  },
  {
   "cell_type": "code",
   "execution_count": 24,
   "metadata": {},
   "outputs": [
    {
     "data": {
      "text/html": [
       "<div>\n",
       "<style scoped>\n",
       "    .dataframe tbody tr th:only-of-type {\n",
       "        vertical-align: middle;\n",
       "    }\n",
       "\n",
       "    .dataframe tbody tr th {\n",
       "        vertical-align: top;\n",
       "    }\n",
       "\n",
       "    .dataframe thead th {\n",
       "        text-align: right;\n",
       "    }\n",
       "</style>\n",
       "<table border=\"1\" class=\"dataframe\">\n",
       "  <thead>\n",
       "    <tr style=\"text-align: right;\">\n",
       "      <th></th>\n",
       "      <th>device_id</th>\n",
       "    </tr>\n",
       "    <tr>\n",
       "      <th>exp_id</th>\n",
       "      <th></th>\n",
       "    </tr>\n",
       "  </thead>\n",
       "  <tbody>\n",
       "    <tr>\n",
       "      <th>246</th>\n",
       "      <td>2484</td>\n",
       "    </tr>\n",
       "    <tr>\n",
       "      <th>247</th>\n",
       "      <td>2513</td>\n",
       "    </tr>\n",
       "    <tr>\n",
       "      <th>248</th>\n",
       "      <td>2537</td>\n",
       "    </tr>\n",
       "  </tbody>\n",
       "</table>\n",
       "</div>"
      ],
      "text/plain": [
       "        device_id\n",
       "exp_id           \n",
       "246          2484\n",
       "247          2513\n",
       "248          2537"
      ]
     },
     "execution_count": 24,
     "metadata": {},
     "output_type": "execute_result"
    }
   ],
   "source": [
    "users_exp_group = new_exp_data.groupby('exp_id').agg({'device_id': 'nunique'})\n",
    "users_exp_group"
   ]
  },
  {
   "cell_type": "markdown",
   "metadata": {},
   "source": [
    "Sí hay usuarios de los tres grupos experimentales."
   ]
  },
  {
   "cell_type": "markdown",
   "metadata": {},
   "source": [
    "## Estudiar el embudo de eventos"
   ]
  },
  {
   "cell_type": "markdown",
   "metadata": {},
   "source": [
    "### Observa qué eventos hay en los registros y su frecuencia de suceso. Ordénalos por frecuencia."
   ]
  },
  {
   "cell_type": "code",
   "execution_count": 25,
   "metadata": {
    "scrolled": true
   },
   "outputs": [
    {
     "data": {
      "text/plain": [
       "event_name\n",
       "MainScreenAppear           117328\n",
       "OffersScreenAppear          46333\n",
       "CartScreenAppear            42303\n",
       "PaymentScreenSuccessful     33918\n",
       "Tutorial                     1005\n",
       "Name: event_name, dtype: int64"
      ]
     },
     "execution_count": 25,
     "metadata": {},
     "output_type": "execute_result"
    }
   ],
   "source": [
    "new_exp_data.groupby('event_name')['event_name'].count().sort_values(ascending=False)"
   ]
  },
  {
   "cell_type": "markdown",
   "metadata": {},
   "source": [
    "El evento main screen appear es que más frecuencia posee"
   ]
  },
  {
   "cell_type": "markdown",
   "metadata": {},
   "source": [
    "### Encuentra la cantidad de usuarios y usuarias que realizaron cada una de estas acciones. Ordena los eventos por el número de usuarios y usuarias."
   ]
  },
  {
   "cell_type": "code",
   "execution_count": 26,
   "metadata": {
    "scrolled": true
   },
   "outputs": [
    {
     "data": {
      "text/html": [
       "<div>\n",
       "<style scoped>\n",
       "    .dataframe tbody tr th:only-of-type {\n",
       "        vertical-align: middle;\n",
       "    }\n",
       "\n",
       "    .dataframe tbody tr th {\n",
       "        vertical-align: top;\n",
       "    }\n",
       "\n",
       "    .dataframe thead th {\n",
       "        text-align: right;\n",
       "    }\n",
       "</style>\n",
       "<table border=\"1\" class=\"dataframe\">\n",
       "  <thead>\n",
       "    <tr style=\"text-align: right;\">\n",
       "      <th></th>\n",
       "      <th>event_name</th>\n",
       "      <th>device_id</th>\n",
       "    </tr>\n",
       "  </thead>\n",
       "  <tbody>\n",
       "    <tr>\n",
       "      <th>0</th>\n",
       "      <td>MainScreenAppear</td>\n",
       "      <td>7419</td>\n",
       "    </tr>\n",
       "    <tr>\n",
       "      <th>1</th>\n",
       "      <td>OffersScreenAppear</td>\n",
       "      <td>4593</td>\n",
       "    </tr>\n",
       "    <tr>\n",
       "      <th>2</th>\n",
       "      <td>CartScreenAppear</td>\n",
       "      <td>3734</td>\n",
       "    </tr>\n",
       "    <tr>\n",
       "      <th>3</th>\n",
       "      <td>PaymentScreenSuccessful</td>\n",
       "      <td>3539</td>\n",
       "    </tr>\n",
       "    <tr>\n",
       "      <th>4</th>\n",
       "      <td>Tutorial</td>\n",
       "      <td>840</td>\n",
       "    </tr>\n",
       "  </tbody>\n",
       "</table>\n",
       "</div>"
      ],
      "text/plain": [
       "                event_name  device_id\n",
       "0         MainScreenAppear       7419\n",
       "1       OffersScreenAppear       4593\n",
       "2         CartScreenAppear       3734\n",
       "3  PaymentScreenSuccessful       3539\n",
       "4                 Tutorial        840"
      ]
     },
     "execution_count": 26,
     "metadata": {},
     "output_type": "execute_result"
    }
   ],
   "source": [
    "events_count = new_exp_data.groupby('event_name').agg({'device_id': 'nunique'}).sort_values(by=('device_id'), ascending=False).reset_index()\n",
    "events_count"
   ]
  },
  {
   "cell_type": "markdown",
   "metadata": {},
   "source": [
    "### Calcula la proporción de usuarios y usuarias que realizaron la acción al menos una vez"
   ]
  },
  {
   "cell_type": "code",
   "execution_count": 27,
   "metadata": {},
   "outputs": [
    {
     "data": {
      "text/plain": [
       "20125"
      ]
     },
     "execution_count": 27,
     "metadata": {},
     "output_type": "execute_result"
    }
   ],
   "source": [
    "total_unique_users = events_count['device_id'].sum()\n",
    "total_unique_users"
   ]
  },
  {
   "cell_type": "code",
   "execution_count": 28,
   "metadata": {
    "scrolled": true
   },
   "outputs": [
    {
     "name": "stdout",
     "output_type": "stream",
     "text": [
      "0.37\n",
      "0.23\n",
      "0.19\n",
      "0.18\n",
      "0.04\n"
     ]
    }
   ],
   "source": [
    "print((7419 / total_unique_users).round(2))\n",
    "print((4593 / total_unique_users).round(2))\n",
    "print((3734 / total_unique_users).round(2))\n",
    "print((3539 / total_unique_users).round(2))\n",
    "print((840 / total_unique_users).round(2))"
   ]
  },
  {
   "cell_type": "markdown",
   "metadata": {},
   "source": [
    "MainScreenAppeares el evento con mayor proporción en los usuarios únicos"
   ]
  },
  {
   "cell_type": "markdown",
   "metadata": {},
   "source": [
    "### ¿En qué orden crees que ocurrieron las acciones? ¿Todas son parte de una sola secuencia?"
   ]
  },
  {
   "cell_type": "markdown",
   "metadata": {},
   "source": [
    "el orden en que ocurrieron los eventos fueron de la siguiente manera: \n",
    "\n",
    "- evento 1: tutorial\n",
    "- evento 2: MainScreenAppear\n",
    "- evento 3: OffersScreenAppear\n",
    "- evento 4: CartScreenAppear\n",
    "- evento 5: PaymentScreenSuccessful\n",
    "\n",
    "Me parece que el tutorial fue el primer evento, ya que pudo ser lo primero que se encuentran los usuarios, y la mayoría de estos optan por saltear esta parte y seguiar al otro evento, el cual es la presencia de la pantalla principal. Además, todas son parte de una sola secuencia."
   ]
  },
  {
   "cell_type": "markdown",
   "metadata": {},
   "source": [
    "### Utiliza el embudo de eventos para encontrar la proporción de usuarios y usuarias que pasan de una etapa a la siguiente."
   ]
  },
  {
   "cell_type": "code",
   "execution_count": 29,
   "metadata": {},
   "outputs": [
    {
     "data": {
      "text/html": [
       "<div>\n",
       "<style scoped>\n",
       "    .dataframe tbody tr th:only-of-type {\n",
       "        vertical-align: middle;\n",
       "    }\n",
       "\n",
       "    .dataframe tbody tr th {\n",
       "        vertical-align: top;\n",
       "    }\n",
       "\n",
       "    .dataframe thead th {\n",
       "        text-align: right;\n",
       "    }\n",
       "</style>\n",
       "<table border=\"1\" class=\"dataframe\">\n",
       "  <thead>\n",
       "    <tr style=\"text-align: right;\">\n",
       "      <th>event_name</th>\n",
       "      <th>CartScreenAppear</th>\n",
       "      <th>MainScreenAppear</th>\n",
       "      <th>OffersScreenAppear</th>\n",
       "      <th>PaymentScreenSuccessful</th>\n",
       "      <th>Tutorial</th>\n",
       "    </tr>\n",
       "    <tr>\n",
       "      <th>device_id</th>\n",
       "      <th></th>\n",
       "      <th></th>\n",
       "      <th></th>\n",
       "      <th></th>\n",
       "      <th></th>\n",
       "    </tr>\n",
       "  </thead>\n",
       "  <tbody>\n",
       "    <tr>\n",
       "      <th>6888746892508752</th>\n",
       "      <td>NaT</td>\n",
       "      <td>2019-08-06 14:06:34</td>\n",
       "      <td>NaT</td>\n",
       "      <td>NaT</td>\n",
       "      <td>NaT</td>\n",
       "    </tr>\n",
       "    <tr>\n",
       "      <th>6909561520679493</th>\n",
       "      <td>2019-08-06 18:52:58</td>\n",
       "      <td>2019-08-06 18:52:54</td>\n",
       "      <td>2019-08-06 18:53:04</td>\n",
       "      <td>2019-08-06 18:52:58</td>\n",
       "      <td>NaT</td>\n",
       "    </tr>\n",
       "    <tr>\n",
       "      <th>6922444491712477</th>\n",
       "      <td>2019-08-04 14:19:40</td>\n",
       "      <td>2019-08-04 14:19:33</td>\n",
       "      <td>2019-08-04 14:19:46</td>\n",
       "      <td>2019-08-04 14:19:40</td>\n",
       "      <td>NaT</td>\n",
       "    </tr>\n",
       "    <tr>\n",
       "      <th>7435777799948366</th>\n",
       "      <td>NaT</td>\n",
       "      <td>2019-08-05 08:06:34</td>\n",
       "      <td>NaT</td>\n",
       "      <td>NaT</td>\n",
       "      <td>NaT</td>\n",
       "    </tr>\n",
       "    <tr>\n",
       "      <th>7702139951469979</th>\n",
       "      <td>2019-08-02 14:28:45</td>\n",
       "      <td>2019-08-01 04:29:54</td>\n",
       "      <td>2019-08-01 04:29:56</td>\n",
       "      <td>2019-08-02 14:28:45</td>\n",
       "      <td>NaT</td>\n",
       "    </tr>\n",
       "  </tbody>\n",
       "</table>\n",
       "</div>"
      ],
      "text/plain": [
       "event_name          CartScreenAppear    MainScreenAppear  OffersScreenAppear  \\\n",
       "device_id                                                                      \n",
       "6888746892508752                 NaT 2019-08-06 14:06:34                 NaT   \n",
       "6909561520679493 2019-08-06 18:52:58 2019-08-06 18:52:54 2019-08-06 18:53:04   \n",
       "6922444491712477 2019-08-04 14:19:40 2019-08-04 14:19:33 2019-08-04 14:19:46   \n",
       "7435777799948366                 NaT 2019-08-05 08:06:34                 NaT   \n",
       "7702139951469979 2019-08-02 14:28:45 2019-08-01 04:29:54 2019-08-01 04:29:56   \n",
       "\n",
       "event_name       PaymentScreenSuccessful Tutorial  \n",
       "device_id                                          \n",
       "6888746892508752                     NaT      NaT  \n",
       "6909561520679493     2019-08-06 18:52:58      NaT  \n",
       "6922444491712477     2019-08-04 14:19:40      NaT  \n",
       "7435777799948366                     NaT      NaT  \n",
       "7702139951469979     2019-08-02 14:28:45      NaT  "
      ]
     },
     "execution_count": 29,
     "metadata": {},
     "output_type": "execute_result"
    }
   ],
   "source": [
    "users = new_exp_data.pivot_table(index='device_id', columns='event_name', values='timestamp', aggfunc='min')\n",
    "users.head()"
   ]
  },
  {
   "cell_type": "code",
   "execution_count": 30,
   "metadata": {},
   "outputs": [
    {
     "name": "stdout",
     "output_type": "stream",
     "text": [
      "Visitantes: 7419\n"
     ]
    }
   ],
   "source": [
    "n_mainscreenappear = users[~users['MainScreenAppear'].isna()].shape[0]\n",
    "print('Visitantes:', n_mainscreenappear)"
   ]
  },
  {
   "cell_type": "code",
   "execution_count": 31,
   "metadata": {
    "scrolled": true
   },
   "outputs": [
    {
     "name": "stdout",
     "output_type": "stream",
     "text": [
      "Visitantes: 840\n",
      "Aparición de la pantalla principal: 787\n",
      "Aparición de pantalla de ofertas: 622\n",
      "Aparicion de la pantalla del carrito de compras: 349\n",
      "Aparicion de la pantalla del carrito de pago exitoso: 215\n"
     ]
    }
   ],
   "source": [
    "step_1 = ~users['Tutorial'].isna()\n",
    "step_2 = step_1 & (users['MainScreenAppear'] > users['Tutorial'])\n",
    "step_3 = step_2 & (users['OffersScreenAppear'] > users['MainScreenAppear'])\n",
    "step_4 = step_3 & (users['CartScreenAppear'] > users['OffersScreenAppear'])\n",
    "step_5 = step_4 & (users['PaymentScreenSuccessful'] > users['CartScreenAppear'])\n",
    "\n",
    "n_tutorial = users[step_1].shape[0]\n",
    "n_mainscreenappear = users[step_2].shape[0]\n",
    "n_offerscreenappear = users[step_3].shape[0]\n",
    "n_cartscreenappear = users[step_4].shape[0]\n",
    "n_paymentscreen = users[step_5].shape[0]\n",
    "\n",
    "print('Visitantes:', n_tutorial)\n",
    "print('Aparición de la pantalla principal:', n_mainscreenappear)\n",
    "print('Aparición de pantalla de ofertas:', n_offerscreenappear)\n",
    "print('Aparicion de la pantalla del carrito de compras:', n_cartscreenappear)\n",
    "print('Aparicion de la pantalla del carrito de pago exitoso:', n_paymentscreen)"
   ]
  },
  {
   "cell_type": "code",
   "execution_count": 32,
   "metadata": {},
   "outputs": [
    {
     "data": {
      "text/plain": [
       "0.25595238095238093"
      ]
     },
     "execution_count": 32,
     "metadata": {},
     "output_type": "execute_result"
    }
   ],
   "source": [
    "215 / 840"
   ]
  },
  {
   "cell_type": "markdown",
   "metadata": {},
   "source": [
    "Se puede observar que de los 840 usuarios que empezaron el recorrido desde el primer evento, solo 215 terminaron el pedido, lo cual equivale al 26% de usuarios. Sin embargo, hay otros usuarios que terminaron el pedido por diferentes vias "
   ]
  },
  {
   "cell_type": "code",
   "execution_count": 33,
   "metadata": {
    "scrolled": true
   },
   "outputs": [
    {
     "name": "stdout",
     "output_type": "stream",
     "text": [
      "Aparición de la pantalla principal: 7419\n",
      "Aparición de pantalla de ofertas: 4201\n",
      "Aparicion de la pantalla del carrito de compras: 1767\n",
      "Aparicion de la pantalla del carrito de pago exitoso: 454\n"
     ]
    }
   ],
   "source": [
    "step_1 = ~users['MainScreenAppear'].isna()\n",
    "step_2 = step_1 & (users['OffersScreenAppear'] > users['MainScreenAppear'])\n",
    "step_3 = step_2 & (users['CartScreenAppear'] > users['OffersScreenAppear'])\n",
    "step_4 = step_3 & (users['PaymentScreenSuccessful'] > users['CartScreenAppear'])\n",
    "\n",
    "n_mainscreenappear = users[step_1].shape[0]\n",
    "n_offerscreenappear = users[step_2].shape[0]\n",
    "n_cartscreenappear = users[step_3].shape[0]\n",
    "n_paymentscreen = users[step_4].shape[0]\n",
    "\n",
    "print('Aparición de la pantalla principal:', n_mainscreenappear)\n",
    "print('Aparición de pantalla de ofertas:', n_offerscreenappear)\n",
    "print('Aparicion de la pantalla del carrito de compras:', n_cartscreenappear)\n",
    "print('Aparicion de la pantalla del carrito de pago exitoso:', n_paymentscreen)"
   ]
  },
  {
   "cell_type": "code",
   "execution_count": 34,
   "metadata": {},
   "outputs": [
    {
     "data": {
      "text/plain": [
       "0.06119423102844049"
      ]
     },
     "execution_count": 34,
     "metadata": {},
     "output_type": "execute_result"
    }
   ],
   "source": [
    "454 / 7419"
   ]
  },
  {
   "cell_type": "markdown",
   "metadata": {},
   "source": [
    "Se puede observar que de los 7419 usuarios que empezaron el recorrido desde otro evento, solo 454 terminaron el pedido, lo cual equivale al 6% de usuarios. No muchos completaron el recorrido"
   ]
  },
  {
   "cell_type": "code",
   "execution_count": 35,
   "metadata": {
    "scrolled": true
   },
   "outputs": [
    {
     "data": {
      "text/plain": [
       "event_name\n",
       "MainScreenAppear           7419\n",
       "OffersScreenAppear         4593\n",
       "CartScreenAppear           3734\n",
       "PaymentScreenSuccessful    3539\n",
       "Tutorial                    840\n",
       "Name: device_id, dtype: int64"
      ]
     },
     "execution_count": 35,
     "metadata": {},
     "output_type": "execute_result"
    }
   ],
   "source": [
    " new_exp_data.groupby('event_name')['device_id'].nunique().sort_values(ascending=False)"
   ]
  },
  {
   "cell_type": "markdown",
   "metadata": {},
   "source": [
    "## Estudiar los resultados del experimento"
   ]
  },
  {
   "cell_type": "markdown",
   "metadata": {},
   "source": [
    "### ¿Cuántos usuarios y usuarias hay en cada grupo?"
   ]
  },
  {
   "cell_type": "code",
   "execution_count": 36,
   "metadata": {
    "scrolled": true
   },
   "outputs": [
    {
     "name": "stdout",
     "output_type": "stream",
     "text": [
      "Usuarios en control_group_1: 2489\n",
      "Usuarios en control_group_2: 2520\n",
      "Usuarios en test_group: 2542\n"
     ]
    }
   ],
   "source": [
    "control_group_1 = exp_data[exp_data['exp_id'] == 246]\n",
    "control_group_2 = exp_data[exp_data['exp_id'] == 247]\n",
    "test_group = exp_data[exp_data['exp_id'] == 248]\n",
    "\n",
    "users_control_group_1 = len(control_group_1['device_id'].unique())\n",
    "users_control_group_2 = len(control_group_2['device_id'].unique())\n",
    "users_test_group = len(test_group['device_id'].unique())\n",
    "\n",
    "print(\"Usuarios en control_group_1:\", users_control_group_1)\n",
    "print(\"Usuarios en control_group_2:\", users_control_group_2)\n",
    "print(\"Usuarios en test_group:\", users_test_group)"
   ]
  },
  {
   "cell_type": "markdown",
   "metadata": {},
   "source": [
    "### Tenemos dos grupos de control en el test A/A, donde comprobamos nuestros mecanismos y cálculos. Observa si hay una diferencia estadísticamente significativa entre las muestras 246 y 247."
   ]
  },
  {
   "cell_type": "code",
   "execution_count": 37,
   "metadata": {},
   "outputs": [
    {
     "data": {
      "text/html": [
       "<div>\n",
       "<style scoped>\n",
       "    .dataframe tbody tr th:only-of-type {\n",
       "        vertical-align: middle;\n",
       "    }\n",
       "\n",
       "    .dataframe tbody tr th {\n",
       "        vertical-align: top;\n",
       "    }\n",
       "\n",
       "    .dataframe thead th {\n",
       "        text-align: right;\n",
       "    }\n",
       "</style>\n",
       "<table border=\"1\" class=\"dataframe\">\n",
       "  <thead>\n",
       "    <tr style=\"text-align: right;\">\n",
       "      <th></th>\n",
       "      <th>device_id</th>\n",
       "      <th>exp_id</th>\n",
       "      <th>converted</th>\n",
       "    </tr>\n",
       "  </thead>\n",
       "  <tbody>\n",
       "    <tr>\n",
       "      <th>0</th>\n",
       "      <td>3737462046622621720</td>\n",
       "      <td>246</td>\n",
       "      <td>1.0</td>\n",
       "    </tr>\n",
       "    <tr>\n",
       "      <th>1</th>\n",
       "      <td>1433840883824088890</td>\n",
       "      <td>247</td>\n",
       "      <td>0.0</td>\n",
       "    </tr>\n",
       "    <tr>\n",
       "      <th>2</th>\n",
       "      <td>4899590676214355127</td>\n",
       "      <td>247</td>\n",
       "      <td>1.0</td>\n",
       "    </tr>\n",
       "    <tr>\n",
       "      <th>3</th>\n",
       "      <td>1182179323890311443</td>\n",
       "      <td>246</td>\n",
       "      <td>0.0</td>\n",
       "    </tr>\n",
       "    <tr>\n",
       "      <th>4</th>\n",
       "      <td>4613461174774205834</td>\n",
       "      <td>248</td>\n",
       "      <td>1.0</td>\n",
       "    </tr>\n",
       "  </tbody>\n",
       "</table>\n",
       "</div>"
      ],
      "text/plain": [
       "             device_id  exp_id  converted\n",
       "0  3737462046622621720     246        1.0\n",
       "1  1433840883824088890     247        0.0\n",
       "2  4899590676214355127     247        1.0\n",
       "3  1182179323890311443     246        0.0\n",
       "4  4613461174774205834     248        1.0"
      ]
     },
     "execution_count": 37,
     "metadata": {},
     "output_type": "execute_result"
    }
   ],
   "source": [
    "conversions = new_exp_data[['device_id', 'exp_id']].drop_duplicates()\n",
    "converted = pd.DataFrame(data={\n",
    "    \"device_id\": new_exp_data[new_exp_data[\"event_name\"] == \"PaymentScreenSuccessful\"][\"device_id\"].unique(),\n",
    "    \"converted\": 1\n",
    "})\n",
    "conversions = conversions.merge(converted, on=\"device_id\", how=\"left\")\n",
    "conversions[\"converted\"] = conversions[\"converted\"].fillna(0)\n",
    "conversions.head()"
   ]
  },
  {
   "cell_type": "code",
   "execution_count": 38,
   "metadata": {
    "scrolled": true
   },
   "outputs": [
    {
     "name": "stdout",
     "output_type": "stream",
     "text": [
      "p-value: 0.11456679313141849\n",
      "No se pudo rechazar la hipótesis nula: no hay razón para pensar que las proporciones son diferentes.\n"
     ]
    }
   ],
   "source": [
    "purchases = np.array([(conversions.query('exp_id == 246 and converted == 1')['converted'].count()), \n",
    "                      conversions.query('exp_id == 247 and converted == 1')['converted'].count()])\n",
    "leads = np.array([(conversions.query('exp_id == 246')['exp_id'].count()), \n",
    "                  (conversions.query('exp_id == 247')['exp_id'].count())])\n",
    "\n",
    "significance = 0.05\n",
    "p1 = purchases[0]/leads[0]\n",
    "p2 = purchases[1]/leads[1]\n",
    "p_combined = ((purchases[0]+purchases[1])/(leads[0]+leads[1]))\n",
    "difference = p1 - p2\n",
    "\n",
    "z_value = difference / mth.sqrt(p_combined * (1 - p_combined) * (1/leads[0]+1/leads[1]))\n",
    "\n",
    "distr = st.norm(0,1)\n",
    "\n",
    "p_value = (1 - distr.cdf(abs(z_value))) * 2\n",
    "\n",
    "print('p-value:', p_value)\n",
    "\n",
    "if (p_value < significance):\n",
    "    print('Rechazar la hipótesis nula: hay una diferencia significativa entre las proporciones.')\n",
    "else:\n",
    "    print('No se pudo rechazar la hipótesis nula: no hay razón para pensar que las proporciones son diferentes.')"
   ]
  },
  {
   "cell_type": "markdown",
   "metadata": {},
   "source": [
    "### Selecciona el evento más popular. En cada uno de los grupos de control, encuentra la cantidad de usuarios y usuarias que realizaron esta acción. Encuentra su proporción. Comprueba si la diferencia entre los grupos es estadísticamente significativa. Repite el procedimiento para todos los demás eventos (ahorrarás tiempo si creas una función especial para esta prueba). ¿Puedes confirmar que los grupos se dividieron correctamente?"
   ]
  },
  {
   "cell_type": "code",
   "execution_count": 39,
   "metadata": {},
   "outputs": [
    {
     "data": {
      "text/plain": [
       "'MainScreenAppear'"
      ]
     },
     "execution_count": 39,
     "metadata": {},
     "output_type": "execute_result"
    }
   ],
   "source": [
    "# Seleccionar el evento más popular\n",
    "most_common_event = exp_data['event_name'].value_counts().index[0]\n",
    "most_common_event"
   ]
  },
  {
   "cell_type": "code",
   "execution_count": 40,
   "metadata": {
    "scrolled": true
   },
   "outputs": [
    {
     "name": "stdout",
     "output_type": "stream",
     "text": [
      "2456\n",
      "2482\n"
     ]
    }
   ],
   "source": [
    "# Contar la cantidad de usuarios y usuarias en cada grupo de control que realizaron el evento más popular\n",
    "event_control_group_1 = control_group_1[control_group_1['event_name'] == most_common_event]\n",
    "event_control_group_2 = control_group_2[control_group_2['event_name'] == most_common_event]\n",
    "count_event_control_group_1 = len(event_control_group_1['device_id'].unique())\n",
    "count_event_control_group_2 = len(event_control_group_2['device_id'].unique())\n",
    "print(count_event_control_group_1)\n",
    "print(count_event_control_group_2)"
   ]
  },
  {
   "cell_type": "markdown",
   "metadata": {},
   "source": [
    "El evento más popular en cada uno de los eventos de control es el 'MainScreenAppear'"
   ]
  },
  {
   "cell_type": "code",
   "execution_count": 43,
   "metadata": {},
   "outputs": [
    {
     "name": "stdout",
     "output_type": "stream",
     "text": [
      "             device_id  exp_id  converted\n",
      "0  3737462046622621720     246        1.0\n",
      "1  1433840883824088890     247        0.0\n",
      "2  4899590676214355127     247        1.0\n",
      "3  1182179323890311443     246        0.0\n",
      "4  4613461174774205834     248        1.0\n",
      "[1200 1158]\n",
      "[2484 2513]\n"
     ]
    },
    {
     "data": {
      "text/plain": [
       "0.11456679313141849"
      ]
     },
     "execution_count": 43,
     "metadata": {},
     "output_type": "execute_result"
    }
   ],
   "source": [
    "\n",
    "def z_test(df, group_1, group_2, event, group_col=\"exp_id\", conv_col=\"converted\"):\n",
    "\n",
    "\n",
    "    conversions = df[[\"device_id\", group_col]].drop_duplicates()\n",
    "\n",
    "    converted = pd.DataFrame(data={\n",
    "      \"device_id\": df[df[\"event_name\"] == event][\"device_id\"].unique(),\n",
    "      \"converted\": 1\n",
    "    })\n",
    "\n",
    "    conversions = conversions.merge(converted, on=\"device_id\", how=\"left\")\n",
    "    conversions[\"converted\"] = conversions[\"converted\"].fillna(0)\n",
    "    print(conversions.head())\n",
    "\n",
    "\n",
    "    purchases = np.array([(conversions.query(f'{group_col} == {group_1} and converted == 1')[conv_col].count()), \n",
    "                          conversions.query(f'{group_col} == {group_2} and converted == 1')[conv_col].count()])\n",
    "    leads = np.array([(conversions.query(f'{group_col} == {group_1}')[group_col].count()), \n",
    "                      (conversions.query(f'{group_col} == {group_2}')[group_col].count())])\n",
    "\n",
    "\n",
    "\n",
    "    print(purchases)    \n",
    "    print(leads)  \n",
    "\n",
    "    p1 = purchases[0]/leads[0]\n",
    "    p2 = purchases[1]/leads[1]\n",
    "    p_combined = ((purchases[0]+purchases[1])/(leads[0]+leads[1]))\n",
    "    difference = p1 - p2\n",
    "\n",
    "    z_value = difference / mth.sqrt(p_combined * (1 - p_combined) * (1/leads[0]+1/leads[1]))\n",
    "\n",
    "    distr = st.norm(0,1)\n",
    "\n",
    "    p_value = (1 - distr.cdf(abs(z_value))) * 2\n",
    "\n",
    "    return(p_value)\n",
    "\n",
    "z_test(new_exp_data, '246', '247', 'PaymentScreenSuccessful')"
   ]
  },
  {
   "cell_type": "code",
   "execution_count": 44,
   "metadata": {},
   "outputs": [
    {
     "name": "stdout",
     "output_type": "stream",
     "text": [
      "             device_id  exp_id  converted\n",
      "0  3737462046622621720     246        1.0\n",
      "1  1433840883824088890     247        0.0\n",
      "2  4899590676214355127     247        1.0\n",
      "3  1182179323890311443     246        0.0\n",
      "4  4613461174774205834     248        1.0\n",
      "[1266 1238]\n",
      "[2484 2513]\n"
     ]
    },
    {
     "data": {
      "text/plain": [
       "0.22883372237997213"
      ]
     },
     "execution_count": 44,
     "metadata": {},
     "output_type": "execute_result"
    }
   ],
   "source": [
    "z_test(new_exp_data, '246', '247', 'CartScreenAppear')"
   ]
  },
  {
   "cell_type": "code",
   "execution_count": 45,
   "metadata": {},
   "outputs": [
    {
     "name": "stdout",
     "output_type": "stream",
     "text": [
      "             device_id  exp_id  converted\n",
      "0  3737462046622621720     246        1.0\n",
      "1  1433840883824088890     247        0.0\n",
      "2  4899590676214355127     247        1.0\n",
      "3  1182179323890311443     246        0.0\n",
      "4  4613461174774205834     248        1.0\n",
      "[1542 1520]\n",
      "[2484 2513]\n"
     ]
    },
    {
     "data": {
      "text/plain": [
       "0.2480954578522181"
      ]
     },
     "execution_count": 45,
     "metadata": {},
     "output_type": "execute_result"
    }
   ],
   "source": [
    "z_test(new_exp_data, '246', '247', 'OffersScreenAppear') "
   ]
  },
  {
   "cell_type": "code",
   "execution_count": 46,
   "metadata": {},
   "outputs": [
    {
     "name": "stdout",
     "output_type": "stream",
     "text": [
      "             device_id  exp_id  converted\n",
      "0  3737462046622621720     246        1.0\n",
      "1  1433840883824088890     247        1.0\n",
      "2  4899590676214355127     247        1.0\n",
      "3  1182179323890311443     246        1.0\n",
      "4  4613461174774205834     248        1.0\n",
      "[2450 2476]\n",
      "[2484 2513]\n"
     ]
    },
    {
     "data": {
      "text/plain": [
       "0.7570597232046099"
      ]
     },
     "execution_count": 46,
     "metadata": {},
     "output_type": "execute_result"
    }
   ],
   "source": [
    "z_test(new_exp_data, '246', '247', 'MainScreenAppear') "
   ]
  },
  {
   "cell_type": "code",
   "execution_count": 47,
   "metadata": {
    "scrolled": true
   },
   "outputs": [
    {
     "name": "stdout",
     "output_type": "stream",
     "text": [
      "             device_id  exp_id  converted\n",
      "0  3737462046622621720     246        1.0\n",
      "1  1433840883824088890     247        0.0\n",
      "2  4899590676214355127     247        0.0\n",
      "3  1182179323890311443     246        0.0\n",
      "4  4613461174774205834     248        0.0\n",
      "[278 283]\n",
      "[2484 2513]\n"
     ]
    },
    {
     "data": {
      "text/plain": [
       "0.9376996189257114"
      ]
     },
     "execution_count": 47,
     "metadata": {},
     "output_type": "execute_result"
    }
   ],
   "source": [
    "z_test(new_exp_data, '246', '247', 'Tutorial') "
   ]
  },
  {
   "cell_type": "markdown",
   "metadata": {},
   "source": [
    "Se dividieron correctamente, ya que las proporciones van de acuerdo al orden en que se ejecutan estos eventos según la cantidad de usuarios."
   ]
  },
  {
   "cell_type": "markdown",
   "metadata": {},
   "source": [
    "### Haz lo mismo para el grupo con fuentes alteradas. Compara los resultados con los de cada uno de los grupos de control para cada evento de forma aislada. Compara los resultados con los resultados combinados de los grupos de control. ¿Qué conclusiones puedes sacar del experimento?"
   ]
  },
  {
   "cell_type": "code",
   "execution_count": 55,
   "metadata": {
    "scrolled": true
   },
   "outputs": [
    {
     "name": "stdout",
     "output_type": "stream",
     "text": [
      "             device_id  exp_id  converted\n",
      "0  3737462046622621720     246        1.0\n",
      "1  1433840883824088890     247        0.0\n",
      "2  4899590676214355127     247        1.0\n",
      "3  1182179323890311443     246        0.0\n",
      "4  4613461174774205834     248        1.0\n",
      "[1200 1181]\n",
      "[2484 2537]\n"
     ]
    },
    {
     "data": {
      "text/plain": [
       "0.2122553275697796"
      ]
     },
     "execution_count": 55,
     "metadata": {},
     "output_type": "execute_result"
    }
   ],
   "source": [
    "def z_test(df, group_1, group_2, event, group_col=\"exp_id\", conv_col=\"converted\"):\n",
    "\n",
    "\n",
    "    conversions = df[[\"device_id\", group_col]].drop_duplicates()\n",
    "\n",
    "    converted = pd.DataFrame(data={\n",
    "      \"device_id\": df[df[\"event_name\"] == event][\"device_id\"].unique(),\n",
    "      \"converted\": 1\n",
    "    })\n",
    "\n",
    "    conversions = conversions.merge(converted, on=\"device_id\", how=\"left\")\n",
    "    conversions[\"converted\"] = conversions[\"converted\"].fillna(0)\n",
    "    print(conversions.head())\n",
    "\n",
    "\n",
    "    purchases = np.array([(conversions.query(f'{group_col} == {group_1} and converted == 1')[conv_col].count()), \n",
    "                          conversions.query(f'{group_col} == {group_2} and converted == 1')[conv_col].count()])\n",
    "    leads = np.array([(conversions.query(f'{group_col} == {group_1}')[group_col].count()), \n",
    "                      (conversions.query(f'{group_col} == {group_2}')[group_col].count())])\n",
    "\n",
    "\n",
    "\n",
    "    print(purchases)    \n",
    "    print(leads)  \n",
    "\n",
    "    p1 = purchases[0]/leads[0]\n",
    "    p2 = purchases[1]/leads[1]\n",
    "    p_combined = ((purchases[0]+purchases[1])/(leads[0]+leads[1]))\n",
    "    difference = p1 - p2\n",
    "\n",
    "    z_value = difference / mth.sqrt(p_combined * (1 - p_combined) * (1/leads[0]+1/leads[1]))\n",
    "\n",
    "    distr = st.norm(0,1)\n",
    "\n",
    "    p_value = (1 - distr.cdf(abs(z_value))) * 2\n",
    "\n",
    "    return(p_value)\n",
    "\n",
    "z_test(new_exp_data, '246', '248', 'PaymentScreenSuccessful')"
   ]
  },
  {
   "cell_type": "code",
   "execution_count": 56,
   "metadata": {
    "scrolled": true
   },
   "outputs": [
    {
     "name": "stdout",
     "output_type": "stream",
     "text": [
      "             device_id  exp_id  converted\n",
      "0  3737462046622621720     246        1.0\n",
      "1  1433840883824088890     247        0.0\n",
      "2  4899590676214355127     247        1.0\n",
      "3  1182179323890311443     246        0.0\n",
      "4  4613461174774205834     248        1.0\n",
      "[1266 1230]\n",
      "[2484 2537]\n"
     ]
    },
    {
     "data": {
      "text/plain": [
       "0.07842923237520116"
      ]
     },
     "execution_count": 56,
     "metadata": {},
     "output_type": "execute_result"
    }
   ],
   "source": [
    "z_test(new_exp_data, '246', '248', 'CartScreenAppear')"
   ]
  },
  {
   "cell_type": "code",
   "execution_count": 57,
   "metadata": {
    "scrolled": true
   },
   "outputs": [
    {
     "name": "stdout",
     "output_type": "stream",
     "text": [
      "             device_id  exp_id  converted\n",
      "0  3737462046622621720     246        1.0\n",
      "1  1433840883824088890     247        0.0\n",
      "2  4899590676214355127     247        1.0\n",
      "3  1182179323890311443     246        0.0\n",
      "4  4613461174774205834     248        1.0\n",
      "[1542 1531]\n",
      "[2484 2537]\n"
     ]
    },
    {
     "data": {
      "text/plain": [
       "0.20836205402738917"
      ]
     },
     "execution_count": 57,
     "metadata": {},
     "output_type": "execute_result"
    }
   ],
   "source": [
    "z_test(new_exp_data, '246', '248', 'OffersScreenAppear')"
   ]
  },
  {
   "cell_type": "code",
   "execution_count": 58,
   "metadata": {
    "scrolled": true
   },
   "outputs": [
    {
     "name": "stdout",
     "output_type": "stream",
     "text": [
      "             device_id  exp_id  converted\n",
      "0  3737462046622621720     246        1.0\n",
      "1  1433840883824088890     247        1.0\n",
      "2  4899590676214355127     247        1.0\n",
      "3  1182179323890311443     246        1.0\n",
      "4  4613461174774205834     248        1.0\n",
      "[2450 2493]\n",
      "[2484 2537]\n"
     ]
    },
    {
     "data": {
      "text/plain": [
       "0.2949721933554552"
      ]
     },
     "execution_count": 58,
     "metadata": {},
     "output_type": "execute_result"
    }
   ],
   "source": [
    "z_test(new_exp_data, '246', '248', 'MainScreenAppear') "
   ]
  },
  {
   "cell_type": "code",
   "execution_count": 59,
   "metadata": {
    "scrolled": true
   },
   "outputs": [
    {
     "name": "stdout",
     "output_type": "stream",
     "text": [
      "             device_id  exp_id  converted\n",
      "0  3737462046622621720     246        1.0\n",
      "1  1433840883824088890     247        0.0\n",
      "2  4899590676214355127     247        0.0\n",
      "3  1182179323890311443     246        0.0\n",
      "4  4613461174774205834     248        0.0\n",
      "[278 279]\n",
      "[2484 2537]\n"
     ]
    },
    {
     "data": {
      "text/plain": [
       "0.8264294010087645"
      ]
     },
     "execution_count": 59,
     "metadata": {},
     "output_type": "execute_result"
    }
   ],
   "source": [
    "z_test(new_exp_data, '246', '248', 'Tutorial') "
   ]
  },
  {
   "cell_type": "code",
   "execution_count": 60,
   "metadata": {
    "scrolled": true
   },
   "outputs": [
    {
     "name": "stdout",
     "output_type": "stream",
     "text": [
      "             device_id  exp_id  converted\n",
      "0  3737462046622621720     246        1.0\n",
      "1  1433840883824088890     247        0.0\n",
      "2  4899590676214355127     247        1.0\n",
      "3  1182179323890311443     246        0.0\n",
      "4  4613461174774205834     248        1.0\n",
      "[1158 1181]\n",
      "[2513 2537]\n"
     ]
    },
    {
     "data": {
      "text/plain": [
       "0.7373415053803964"
      ]
     },
     "execution_count": 60,
     "metadata": {},
     "output_type": "execute_result"
    }
   ],
   "source": [
    "z_test(new_exp_data, '247', '248', 'PaymentScreenSuccessful')"
   ]
  },
  {
   "cell_type": "code",
   "execution_count": 62,
   "metadata": {
    "scrolled": true
   },
   "outputs": [
    {
     "name": "stdout",
     "output_type": "stream",
     "text": [
      "             device_id  exp_id  converted\n",
      "0  3737462046622621720     246        1.0\n",
      "1  1433840883824088890     247        0.0\n",
      "2  4899590676214355127     247        1.0\n",
      "3  1182179323890311443     246        0.0\n",
      "4  4613461174774205834     248        1.0\n",
      "[1238 1230]\n",
      "[2513 2537]\n"
     ]
    },
    {
     "data": {
      "text/plain": [
       "0.5786197879539783"
      ]
     },
     "execution_count": 62,
     "metadata": {},
     "output_type": "execute_result"
    }
   ],
   "source": [
    "z_test(new_exp_data, '247', '248', 'CartScreenAppear')"
   ]
  },
  {
   "cell_type": "code",
   "execution_count": 63,
   "metadata": {
    "scrolled": true
   },
   "outputs": [
    {
     "name": "stdout",
     "output_type": "stream",
     "text": [
      "             device_id  exp_id  converted\n",
      "0  3737462046622621720     246        1.0\n",
      "1  1433840883824088890     247        0.0\n",
      "2  4899590676214355127     247        1.0\n",
      "3  1182179323890311443     246        0.0\n",
      "4  4613461174774205834     248        1.0\n",
      "[1520 1531]\n",
      "[2513 2537]\n"
     ]
    },
    {
     "data": {
      "text/plain": [
       "0.9197817830592261"
      ]
     },
     "execution_count": 63,
     "metadata": {},
     "output_type": "execute_result"
    }
   ],
   "source": [
    "z_test(new_exp_data, '247', '248', 'OffersScreenAppear')"
   ]
  },
  {
   "cell_type": "code",
   "execution_count": 64,
   "metadata": {
    "scrolled": true
   },
   "outputs": [
    {
     "name": "stdout",
     "output_type": "stream",
     "text": [
      "             device_id  exp_id  converted\n",
      "0  3737462046622621720     246        1.0\n",
      "1  1433840883824088890     247        1.0\n",
      "2  4899590676214355127     247        1.0\n",
      "3  1182179323890311443     246        1.0\n",
      "4  4613461174774205834     248        1.0\n",
      "[2476 2493]\n",
      "[2513 2537]\n"
     ]
    },
    {
     "data": {
      "text/plain": [
       "0.4587053616621515"
      ]
     },
     "execution_count": 64,
     "metadata": {},
     "output_type": "execute_result"
    }
   ],
   "source": [
    "z_test(new_exp_data, '247', '248', 'MainScreenAppear') "
   ]
  },
  {
   "cell_type": "code",
   "execution_count": 65,
   "metadata": {
    "scrolled": true
   },
   "outputs": [
    {
     "name": "stdout",
     "output_type": "stream",
     "text": [
      "             device_id  exp_id  converted\n",
      "0  3737462046622621720     246        1.0\n",
      "1  1433840883824088890     247        0.0\n",
      "2  4899590676214355127     247        0.0\n",
      "3  1182179323890311443     246        0.0\n",
      "4  4613461174774205834     248        0.0\n",
      "[283 279]\n",
      "[2513 2537]\n"
     ]
    },
    {
     "data": {
      "text/plain": [
       "0.765323922474501"
      ]
     },
     "execution_count": 65,
     "metadata": {},
     "output_type": "execute_result"
    }
   ],
   "source": [
    "z_test(new_exp_data, '247', '248', 'Tutorial') "
   ]
  },
  {
   "cell_type": "code",
   "execution_count": 67,
   "metadata": {
    "scrolled": true
   },
   "outputs": [
    {
     "name": "stdout",
     "output_type": "stream",
     "text": [
      "             device_id  exp_id  converted\n",
      "0  3737462046622621720     246        1.0\n",
      "1  1433840883824088890     247        0.0\n",
      "2  4899590676214355127     247        1.0\n",
      "3  1182179323890311443     246        0.0\n",
      "4  4613461174774205834     248        1.0\n",
      "[2358 1181]\n",
      "[4997 2537]\n"
     ]
    },
    {
     "data": {
      "text/plain": [
       "0.6004294282308704"
      ]
     },
     "execution_count": 67,
     "metadata": {},
     "output_type": "execute_result"
    }
   ],
   "source": [
    "def z_test(df, group_1, group_2, group_3, event, group_col=\"exp_id\", conv_col=\"converted\"):\n",
    "\n",
    "\n",
    "    conversions = df[[\"device_id\", group_col]].drop_duplicates()\n",
    "\n",
    "    converted = pd.DataFrame(data={\n",
    "      \"device_id\": df[df[\"event_name\"] == event][\"device_id\"].unique(),\n",
    "      \"converted\": 1\n",
    "    })\n",
    "\n",
    "    conversions = conversions.merge(converted, on=\"device_id\", how=\"left\")\n",
    "    conversions[\"converted\"] = conversions[\"converted\"].fillna(0)\n",
    "    print(conversions.head())\n",
    "\n",
    "\n",
    "    purchases = np.array(([(conversions.query(f'{group_col} == {group_1} and converted == 1')[conv_col].count()) + \n",
    "                          (conversions.query(f'{group_col} == {group_2} and converted == 1')[conv_col].count()), conversions.query(f'{group_col} == {group_3} and converted == 1')[conv_col].count()]))\n",
    "    leads = np.array([(conversions.query(f'{group_col} == {group_1}')[group_col].count()) + \n",
    "                      (conversions.query(f'{group_col} == {group_2}')[group_col].count()), conversions.query(f'{group_col} == {group_3}')[group_col].count()])\n",
    "\n",
    "\n",
    "\n",
    "    print(purchases)    \n",
    "    print(leads)  \n",
    "\n",
    "    p1 = purchases[0]/leads[0]\n",
    "    p2 = purchases[1]/leads[1]\n",
    "    p_combined = ((purchases[0]+purchases[1])/(leads[0]+leads[1]))\n",
    "    difference = p1 - p2\n",
    "\n",
    "    z_value = difference / mth.sqrt(p_combined * (1 - p_combined) * (1/leads[0]+1/leads[1]))\n",
    "\n",
    "    distr = st.norm(0,1)\n",
    "\n",
    "    p_value = (1 - distr.cdf(abs(z_value))) * 2\n",
    "\n",
    "    return(p_value)\n",
    "\n",
    "z_test(new_exp_data, '246', '247', '248', 'PaymentScreenSuccessful')"
   ]
  },
  {
   "cell_type": "code",
   "execution_count": 68,
   "metadata": {},
   "outputs": [
    {
     "name": "stdout",
     "output_type": "stream",
     "text": [
      "             device_id  exp_id  converted\n",
      "0  3737462046622621720     246        1.0\n",
      "1  1433840883824088890     247        0.0\n",
      "2  4899590676214355127     247        1.0\n",
      "3  1182179323890311443     246        0.0\n",
      "4  4613461174774205834     248        1.0\n",
      "[2504 1230]\n",
      "[4997 2537]\n"
     ]
    },
    {
     "data": {
      "text/plain": [
       "0.18175875284404386"
      ]
     },
     "execution_count": 68,
     "metadata": {},
     "output_type": "execute_result"
    }
   ],
   "source": [
    "z_test(new_exp_data, '246', '247', '248', 'CartScreenAppear')"
   ]
  },
  {
   "cell_type": "code",
   "execution_count": 69,
   "metadata": {},
   "outputs": [
    {
     "name": "stdout",
     "output_type": "stream",
     "text": [
      "             device_id  exp_id  converted\n",
      "0  3737462046622621720     246        1.0\n",
      "1  1433840883824088890     247        0.0\n",
      "2  4899590676214355127     247        1.0\n",
      "3  1182179323890311443     246        0.0\n",
      "4  4613461174774205834     248        1.0\n",
      "[3062 1531]\n",
      "[4997 2537]\n"
     ]
    },
    {
     "data": {
      "text/plain": [
       "0.43425549655188256"
      ]
     },
     "execution_count": 69,
     "metadata": {},
     "output_type": "execute_result"
    }
   ],
   "source": [
    "z_test(new_exp_data, '246', '247', '248', 'OffersScreenAppear')"
   ]
  },
  {
   "cell_type": "code",
   "execution_count": 70,
   "metadata": {},
   "outputs": [
    {
     "name": "stdout",
     "output_type": "stream",
     "text": [
      "             device_id  exp_id  converted\n",
      "0  3737462046622621720     246        1.0\n",
      "1  1433840883824088890     247        1.0\n",
      "2  4899590676214355127     247        1.0\n",
      "3  1182179323890311443     246        1.0\n",
      "4  4613461174774205834     248        1.0\n",
      "[4926 2493]\n",
      "[4997 2537]\n"
     ]
    },
    {
     "data": {
      "text/plain": [
       "0.29424526837179577"
      ]
     },
     "execution_count": 70,
     "metadata": {},
     "output_type": "execute_result"
    }
   ],
   "source": [
    "z_test(new_exp_data, '246', '247', '248', 'MainScreenAppear')"
   ]
  },
  {
   "cell_type": "code",
   "execution_count": 71,
   "metadata": {},
   "outputs": [
    {
     "name": "stdout",
     "output_type": "stream",
     "text": [
      "             device_id  exp_id  converted\n",
      "0  3737462046622621720     246        1.0\n",
      "1  1433840883824088890     247        0.0\n",
      "2  4899590676214355127     247        0.0\n",
      "3  1182179323890311443     246        0.0\n",
      "4  4613461174774205834     248        0.0\n",
      "[561 279]\n",
      "[4997 2537]\n"
     ]
    },
    {
     "data": {
      "text/plain": [
       "0.764862472531507"
      ]
     },
     "execution_count": 71,
     "metadata": {},
     "output_type": "execute_result"
    }
   ],
   "source": [
    "z_test(new_exp_data, '246', '247', '248', 'Tutorial')"
   ]
  },
  {
   "cell_type": "markdown",
   "metadata": {},
   "source": [
    "La proporción de los grupos es muy parecida"
   ]
  },
  {
   "cell_type": "markdown",
   "metadata": {},
   "source": [
    "Se puede observar que no hay una diferencia significativa entre el grupo de prueba y los grupos de control, así como en la prueba de resultados combinados no hay una diferencia estadísticamente significativa en cada uno de los eventos de los registros. Esto se puede deber, a que los grupos poseen datos correctos, y se encuentran en orden."
   ]
  },
  {
   "cell_type": "markdown",
   "metadata": {},
   "source": [
    "### ¿Qué nivel de significación has establecido para probar las hipótesis estadísticas mencionadas anteriormente? Calcula cuántas pruebas de hipótesis estadísticas has realizado. Con un nivel de significancia estadística de 0.1, uno de cada 10 resultados podría ser falso. ¿Cuál debería ser el nivel de significación?"
   ]
  },
  {
   "cell_type": "code",
   "execution_count": 72,
   "metadata": {},
   "outputs": [
    {
     "name": "stdout",
     "output_type": "stream",
     "text": [
      "La probabilidad de equivocarnos es de: 0.8905810108684876\n"
     ]
    }
   ],
   "source": [
    "n_pruebas = 21\n",
    "significancia = 0.1\n",
    "\n",
    "print('La probabilidad de equivocarnos es de:', (1- (1 - significancia)**n_pruebas))"
   ]
  },
  {
   "cell_type": "code",
   "execution_count": 75,
   "metadata": {},
   "outputs": [
    {
     "name": "stdout",
     "output_type": "stream",
     "text": [
      "La probabilidad de equivocarnos es de: 0.4725194873610554\n"
     ]
    }
   ],
   "source": [
    "n_pruebas = 21\n",
    "significancia = 0.03\n",
    "\n",
    "print('La probabilidad de equivocarnos es de:', (1- (1 - significancia)**n_pruebas))"
   ]
  },
  {
   "cell_type": "markdown",
   "metadata": {},
   "source": [
    "Se realizaron alrededor de 21 pruebas de hipótesis en el proyecto, y la probabilidad de equivocarnos con dcho nivel de significancia es alta. Por este motivo, el nivel de significancia debería ser de 0.05 o 0.03 para tener menos probabilidad de equivocarnos."
   ]
  },
  {
   "cell_type": "markdown",
   "metadata": {},
   "source": [
    "## Conclusión general"
   ]
  },
  {
   "cell_type": "markdown",
   "metadata": {},
   "source": [
    "En este proyecto, no se ha especificado el nivel de significancia utilizado para probar las hipótesis estadísticas. Por lo tanto, se decidió establecer un nivel de significancia del 0.05 o 0.01. \n",
    "\n",
    "Asimismo, en el registro de los datos se encontraron datos duplicados, los cuales fueron eliminados; además no se encontraon valores ausentes, y se cambiaron algunos tipos de datos al tipo correcto.\n",
    "\n",
    "Para calcular el número de pruebas de hipótesis estadísticas realizadas en este proyecto, se debe contar el número total de comparaciones realizadas entre los grupos de control y el grupo de prueba. En este caso, se han realizado pruebas para cada evento en cada grupo de control y en el grupo de prueba, lo que significa que se han realizado un total de 3 eventos x 2 grupos de control + 3 eventos en el grupo de prueba = 9 pruebas.\n",
    "\n",
    "Si se utiliza un nivel de significancia del 0.1, existe una probabilidad del 10% de que un resultado sea falso positivo. Por lo tanto, se recomienda establecer un nivel de significancia más estricto, como 0.05 o 0.01, para reducir el riesgo de obtener resultados falsos positivos. Es importante recordar que cuanto más bajo sea el nivel de significancia, mayor será la certeza de que los resultados obtenidos son verdaderos y no se deben al azar.\n",
    "\n",
    "Por último, se pudo observar que en cada una de las pruebas de los grupos no se encontraron diferencias significativas en las proporciones en cada uno de los eventos; por lo tanto se puede concluir que los datos se encuentran correctamente ordenados."
   ]
  }
 ],
 "metadata": {
  "kernelspec": {
   "display_name": "Python 3 (ipykernel)",
   "language": "python",
   "name": "python3"
  },
  "language_info": {
   "codemirror_mode": {
    "name": "ipython",
    "version": 3
   },
   "file_extension": ".py",
   "mimetype": "text/x-python",
   "name": "python",
   "nbconvert_exporter": "python",
   "pygments_lexer": "ipython3",
   "version": "3.9.5"
  },
  "toc": {
   "base_numbering": 1,
   "nav_menu": {},
   "number_sections": true,
   "sideBar": true,
   "skip_h1_title": true,
   "title_cell": "Table of Contents",
   "title_sidebar": "Contents",
   "toc_cell": false,
   "toc_position": {
    "height": "calc(100% - 180px)",
    "left": "10px",
    "top": "150px",
    "width": "261px"
   },
   "toc_section_display": true,
   "toc_window_display": true
  }
 },
 "nbformat": 4,
 "nbformat_minor": 2
}
